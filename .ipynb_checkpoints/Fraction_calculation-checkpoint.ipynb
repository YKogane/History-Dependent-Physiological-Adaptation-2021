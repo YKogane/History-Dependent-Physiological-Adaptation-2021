{
 "cells": [
  {
   "cell_type": "markdown",
   "metadata": {},
   "source": [
    "# Program for Figure 3B-C\n",
    "\n",
    "This program is used for Figure 3B-C.\n",
    "\n",
    "### import packages"
   ]
  },
  {
   "cell_type": "code",
   "execution_count": 1,
   "metadata": {},
   "outputs": [],
   "source": [
    "import numpy as np\n",
    "import matplotlib.pyplot as plt\n",
    "import seaborn as sns"
   ]
  },
  {
   "cell_type": "markdown",
   "metadata": {},
   "source": [
    "### Matplotlib setting"
   ]
  },
  {
   "cell_type": "code",
   "execution_count": 2,
   "metadata": {},
   "outputs": [],
   "source": [
    "plt.rcParams['text.usetex'] = True \n",
    "plt.rcParams['text.latex.preamble'] = [r'\\usepackage{sansmath}', r'\\sansmath'] \n",
    "plt.rcParams['font.family'] = 'sans-serif'\n",
    "plt.rcParams['font.sans-serif'] = 'Helvetica'\n",
    "\n",
    "plt.rcParams[\"font.size\"] = 16.0\n",
    "\n",
    "plt.rcParams['xtick.direction'] = 'out'\n",
    "plt.rcParams['ytick.direction'] = 'out'"
   ]
  },
  {
   "cell_type": "markdown",
   "metadata": {},
   "source": [
    "### calculate the proportion of resistance-gene-deleted cell lineages (Figure3B) or growth-restored cell lineages (Figure3C).\n",
    "\n",
    "standard errors are calculated from binomial distribution."
   ]
  },
  {
   "cell_type": "code",
   "execution_count": 3,
   "metadata": {},
   "outputs": [],
   "source": [
    "x1 = [1, 2, 3, 4, 5]\n",
    "x2 = [1, 2, 3, 4, 5, 6]\n",
    "x3 = [2, 3, 4, 5]\n",
    "x4 = [2, 3, 4, 5, 6]\n",
    "\n",
    "y1 = [343/1399, 261/1081, 201/718,196/796, 216/862] ### fraction of resistance-gene-deleted cell lineages among all cell lineages\n",
    "y2 = [97/260, 93/245, 78/174, 34/184, 0/195, 0/358] ### fraction of growth-restored cell lineages among all resistance-gene-deleted cell lineages\n",
    "y3 = [((343/1399 * (1 - 343/1399))/1399)**(1/2),((261/1081 * (1 - 261/1081))/1081)**(1/2),((201/718 * (1 - 201/718))/718)**(1/2),\\\n",
    "      ((196/796 * (1 - 196/796))/796)**(1/2),((216/862 * (1 - 216/862))/862)**(1/2)] ###calculate the standard error \n",
    "y4 = [((97/260 * (1 - 97/260))/260)**(1/2),((93/245 * (1 - 93/245))/245)**(1/2),((78/174 * (1 - 78/174))/174)**(1/2),\\\n",
    "      ((34/184 * (1 - 34/184))/184)**(1/2),0,0]  ###calculate the standard error "
   ]
  },
  {
   "cell_type": "markdown",
   "metadata": {},
   "source": [
    "### plot barplots and save figure.\n",
    "\n",
    "(top) Figure 3B. (bottom) Figure 3C."
   ]
  },
  {
   "cell_type": "code",
   "execution_count": 4,
   "metadata": {},
   "outputs": [
    {
     "data": {
      "image/png": "[encoded data removed]",
      "text/plain": [
       "<Figure size 432x576 with 2 Axes>"
      ]
     },
     "metadata": {
      "needs_background": "light"
     },
     "output_type": "display_data"
    }
   ],
   "source": [
    "fig, ax = plt.subplots(nrows=2,ncols=1,figsize=(6,8))\n",
    "fig.subplots_adjust(hspace=0.35, wspace=0.2)\n",
    "\n",
    "plt.setp(ax[1], xticks=[1, 2, 3, 4, 5, 6], xticklabels=['$<<$0', '0', '3', '6', '10','Pre-\\ndeleted'])\n",
    "plt.setp(ax[0], xticks=[1, 2, 3, 4, 5, 6], xticklabels=['','','','','',''])\n",
    "plt.setp(ax, yticks=[0, 0.25, 0.5, 0.75, 1.0], yticklabels=['0', '', '0.5', '', '1.0'])\n",
    "\n",
    "ax[0].plot(x1,y1,'x',color='black', lw = 2, label=None)\n",
    "ax[0].bar(x1,y1, yerr = y3, color='white',edgecolor='black',label='Deletion fraction',width=0.75, capsize = 5)\n",
    "ax[0].set_ylabel('Proportion of resistance-\\ngene-deleted cell lineages',fontsize = 18)\n",
    "ax[0].set_xlim(0.5,6.5)\n",
    "ax[0].set_ylim(0,1)\n",
    "\n",
    "ax[1].plot(x2,y2, 'x', color='black', lw = 2, label=None)\n",
    "ax[1].bar(x2,y2,yerr = y4, color='red',edgecolor='black',label='Survival Cell fraction among deletion cells',width=0.75, capsize = 5)\n",
    "ax[1].set_ylabel('Proportion of growth-\\nrestored cells lineages',fontsize = 18)\n",
    "ax[1].set_xlabel('Duration from BL illumination\\nto the onset of Cp exposure, Tc (h)',fontsize = 18)\n",
    "ax[1].set_xlim(0.5,6.5)\n",
    "ax[1].set_ylim(0,1)\n",
    "\n",
    "plt.show()\n",
    "#save_path = './Figure3B_C.pdf'\n",
    "#plt.savefig(save_path, transparent = True, bbox_inches = 'tight')"
   ]
  },
  {
   "cell_type": "code",
   "execution_count": null,
   "metadata": {},
   "outputs": [],
   "source": []
  }
 ],
 "metadata": {
  "kernelspec": {
   "display_name": "Python 3",
   "language": "python",
   "name": "python3"
  },
  "language_info": {
   "codemirror_mode": {
    "name": "ipython",
    "version": 3
   },
   "file_extension": ".py",
   "mimetype": "text/x-python",
   "name": "python",
   "nbconvert_exporter": "python",
   "pygments_lexer": "ipython3",
   "version": "3.7.4"
  }
 },
 "nbformat": 4,
 "nbformat_minor": 4
}
