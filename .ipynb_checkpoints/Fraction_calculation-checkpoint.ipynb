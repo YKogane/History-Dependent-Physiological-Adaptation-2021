{
 "cells": [
  {
   "cell_type": "markdown",
   "metadata": {},
   "source": [
    "# Program for Figure 3B, C and F\n",
    "\n",
    "This program is used for Figure 3B, C and F.\n",
    "\n",
    "### import packages"
   ]
  },
  {
   "cell_type": "code",
   "execution_count": 1,
   "metadata": {},
   "outputs": [],
   "source": [
    "import numpy as np\n",
    "import matplotlib.pyplot as plt\n",
    "import seaborn as sns\n",
    "import pandas as  pd\n",
    "import scipy.stats as stat"
   ]
  },
  {
   "cell_type": "markdown",
   "metadata": {},
   "source": [
    "### Matplotlib setting"
   ]
  },
  {
   "cell_type": "code",
   "execution_count": 2,
   "metadata": {},
   "outputs": [],
   "source": [
    "plt.rcParams['text.usetex'] = True \n",
    "plt.rcParams['text.latex.preamble'] = [r'\\usepackage{sansmath}', r'\\sansmath'] \n",
    "plt.rcParams['font.family'] = 'sans-serif'\n",
    "plt.rcParams['font.sans-serif'] = 'Helvetica'\n",
    "\n",
    "plt.rcParams[\"font.size\"] = 16.0\n",
    "\n",
    "plt.rcParams['xtick.direction'] = 'out'\n",
    "plt.rcParams['ytick.direction'] = 'out'"
   ]
  },
  {
   "cell_type": "markdown",
   "metadata": {},
   "source": [
    "### calculate the proportion of resistance-gene-deleted cell lineages (Figure3B) or growth-restored cell lineages (Figure3C).\n",
    "\n",
    "standard errors are calculated from binomial distribution.  \n",
    "The number of resistance-gene-deleted cell lineages and growth-restored cell lineages are written in \"number_of_each_type_of_cells.csv\""
   ]
  },
  {
   "cell_type": "code",
   "execution_count": 3,
   "metadata": {},
   "outputs": [],
   "source": [
    "x1 = [1, 2, 3, 4, 5]\n",
    "x2 = [1, 2, 3, 4, 5, 6]\n",
    "x3 = [2, 3, 4, 5]\n",
    "x4 = [2, 3, 4, 5, 6]\n",
    "\n",
    "y1 = [343/1399, 261/1081, 201/718,196/796, 216/862] ### fraction of resistance-gene-deleted cell lineages among all cell lineages\n",
    "y2 = [97/260, 93/245, 78/174, 34/184, 0/195, 0/358] ### fraction of growth-restored cell lineages among all resistance-gene-deleted cell lineages\n",
    "y3 = [((343/1399 * (1 - 343/1399))/1399)**(1/2),((261/1081 * (1 - 261/1081))/1081)**(1/2),((201/718 * (1 - 201/718))/718)**(1/2),\\\n",
    "      ((196/796 * (1 - 196/796))/796)**(1/2),((216/862 * (1 - 216/862))/862)**(1/2)] ###calculate the standard error \n",
    "y4 = [((97/260 * (1 - 97/260))/260)**(1/2),((93/245 * (1 - 93/245))/245)**(1/2),((78/174 * (1 - 78/174))/174)**(1/2),\\\n",
    "      ((34/184 * (1 - 34/184))/184)**(1/2),0,0]  ###calculate the standard error "
   ]
  },
  {
   "cell_type": "markdown",
   "metadata": {},
   "source": [
    "### plot barplots and save figure.\n",
    "\n",
    "(top) Figure 3B. (bottom) Figure 3C."
   ]
  },
  {
   "cell_type": "code",
   "execution_count": 4,
   "metadata": {},
   "outputs": [
    {
     "data": {
      "image/png": "[encoded data removed]",
      "text/plain": [
       "<Figure size 432x576 with 2 Axes>"
      ]
     },
     "metadata": {
      "needs_background": "light"
     },
     "output_type": "display_data"
    }
   ],
   "source": [
    "fig, ax = plt.subplots(nrows=2,ncols=1,figsize=(6,8))\n",
    "fig.subplots_adjust(hspace=0.35, wspace=0.2)\n",
    "\n",
    "plt.setp(ax[1], xticks=[1, 2, 3, 4, 5, 6], xticklabels=['$<<$0', '0', '3', '6', '10','Pre-\\ndeleted'])\n",
    "plt.setp(ax[0], xticks=[1, 2, 3, 4, 5, 6], xticklabels=['','','','','',''])\n",
    "plt.setp(ax, yticks=[0, 0.25, 0.5, 0.75, 1.0], yticklabels=['0', '', '0.5', '', '1.0'])\n",
    "\n",
    "ax[0].plot(x1,y1,'x',color='black', lw = 2, label=None)\n",
    "ax[0].bar(x1,y1, yerr = y3, color='white',edgecolor='black',label='Deletion fraction',width=0.75, capsize = 5)\n",
    "ax[0].set_ylabel('Proportion of resistance-\\ngene-deleted cell lineages',fontsize = 18)\n",
    "ax[0].set_xlim(0.5,6.5)\n",
    "ax[0].set_ylim(0,1)\n",
    "\n",
    "ax[1].plot(x2,y2, 'x', color='black', lw = 2, label=None)\n",
    "ax[1].bar(x2,y2,yerr = y4, color='red',edgecolor='black',label='Survival Cell fraction among deletion cells',width=0.75, capsize = 5)\n",
    "ax[1].set_ylabel('Proportion of growth-\\nrestored cells lineages',fontsize = 18)\n",
    "ax[1].set_xlabel('Duration from BL illumination\\nto the onset of Cp exposure, Tc (h)',fontsize = 18)\n",
    "ax[1].set_xlim(0.5,6.5)\n",
    "ax[1].set_ylim(0,1)\n",
    "\n",
    "plt.show()\n",
    "#save_path = './Figure3B_C.pdf'\n",
    "#plt.savefig(save_path, transparent = True, bbox_inches = 'tight')"
   ]
  },
  {
   "cell_type": "markdown",
   "metadata": {},
   "source": [
    "## Figure 3F"
   ]
  },
  {
   "cell_type": "markdown",
   "metadata": {},
   "source": [
    "### import data\n",
    "\n",
    "These data are the fluorescence intensities of mCherry-CAT at Cp exposure."
   ]
  },
  {
   "cell_type": "code",
   "execution_count": 5,
   "metadata": {},
   "outputs": [],
   "source": [
    "Total0 = pd.read_csv('./deletion_fraction_data/Total/Total_0Hr.csv')\n",
    "Total3 = pd.read_csv('./deletion_fraction_data/Total/Total_3Hr.csv')\n",
    "Total6 = pd.read_csv('./deletion_fraction_data/Total/Total_6Hr.csv')\n",
    "Total10= pd.read_csv('./deletion_fraction_data/Total/Total_10Hr.csv')\n",
    "Total10m=pd.read_csv('./deletion_fraction_data/Total/Total_Predel.csv')"
   ]
  },
  {
   "cell_type": "markdown",
   "metadata": {},
   "source": [
    "### divide and integrate the data\n",
    "\n",
    "Data are divided into two groups (top 50%/bottom 50% of fluorescence intensities) in each Tc."
   ]
  },
  {
   "cell_type": "code",
   "execution_count": 6,
   "metadata": {},
   "outputs": [],
   "source": [
    "Total_b_50 = []\n",
    "Total_b_50 += [Total0[Total0['MeanTxRed'] < Total0['MeanTxRed'].median()]]\n",
    "Total_b_50 += [Total3[Total3['MeanTxRed'] < Total3['MeanTxRed'].median()]]\n",
    "Total_b_50 += [Total6[Total6['MeanTxRed'] < Total6['MeanTxRed'].median()]]\n",
    "Total_b_50 += [Total10[Total10['MeanTxRed'] < Total10['MeanTxRed'].median()]]\n",
    "Total_b_50 += [Total10m[Total10m['MeanTxRed'] < Total10m['MeanTxRed'].median()]]\n",
    "Total_t_50 = []\n",
    "Total_t_50 += [Total0[Total0['MeanTxRed'] >= Total0['MeanTxRed'].median()]]\n",
    "Total_t_50 += [Total3[Total3['MeanTxRed'] >= Total3['MeanTxRed'].median()]]\n",
    "Total_t_50 += [Total6[Total6['MeanTxRed'] >= Total6['MeanTxRed'].median()]]\n",
    "Total_t_50 += [Total10[Total10['MeanTxRed'] >= Total10['MeanTxRed'].median()]]\n",
    "Total_t_50 += [Total10m[Total10m['MeanTxRed'] >= Total10m['MeanTxRed'].median()]]"
   ]
  },
  {
   "cell_type": "markdown",
   "metadata": {},
   "source": [
    "### Calculate and save data\n",
    "\n",
    "Calculate the proportions of growth-restored resistance-gene-deleted cell lineages ('Probability') and the standard errors ('yerrorbars').  \n",
    "If indent is deleted, Total_data is saved."
   ]
  },
  {
   "cell_type": "code",
   "execution_count": 7,
   "metadata": {},
   "outputs": [],
   "source": [
    "Total_data = pd.DataFrame({'Time':[],'Probability':[],'mCherry-CAT':[],'MeanTxRed':[],'count':[]})\n",
    "for i in np.arange(0,len(Total_b_50),1):\n",
    "    b_data = Total_b_50[i]\n",
    "    b_data_mean = b_data.loc[:,['Time','Dividing','MeanTxRed']].mean().rename({'Dividing':'Probability'})\n",
    "    b_data_mean['count'] = len(b_data)\n",
    "    b_data_mean['mCherry-CAT'] = 'bottom 50\\%'\n",
    "    Total_data = pd.concat([Total_data, pd.DataFrame([b_data_mean])])\n",
    "    \n",
    "for i in np.arange(0,len(Total_t_50),1):\n",
    "    t_data = Total_t_50[i]\n",
    "    t_data_mean = t_data.loc[:,['Time','Dividing','MeanTxRed']].mean().rename({'Dividing':'Probability'})\n",
    "    t_data_mean['count'] = len(t_data)\n",
    "    t_data_mean['mCherry-CAT'] = 'top 50\\%'\n",
    "    Total_data = pd.concat([Total_data, pd.DataFrame([t_data_mean])])\n",
    "Total_data = Total_data.sort_values('Time')\n",
    "Total_data['Time'] =Total_data['Time'].astype('int') .astype('str') \n",
    "Total_data.loc[Total_data['Time'] == '20','Time'] = 'Pre-\\ndeleted'\n",
    "Total_data['yerrorbars'] = np.sqrt(Total_data['Probability']*(1-Total_data['Probability'])/Total_data['count'])\n",
    "#Total_data.to_csv('./deletion_fraction_data/Figure3_F_data.csv')"
   ]
  },
  {
   "cell_type": "markdown",
   "metadata": {},
   "source": [
    "### calculated p-value\n",
    "\n",
    "p-values between top 50% groups and bottom 50% groups in each Tc.\n",
    "p-value are calculated by proportional z-test."
   ]
  },
  {
   "cell_type": "code",
   "execution_count": 8,
   "metadata": {},
   "outputs": [
    {
     "name": "stdout",
     "output_type": "stream",
     "text": [
      "At Tc = 0, p-value is 0.855878\n",
      "At Tc = 3, p-value is 0.280793\n",
      "At Tc = 6, p-value is 0.008576\n"
     ]
    }
   ],
   "source": [
    "q0 = Total_t_50[0].Dividing.sum()/len(Total_t_50[0].Dividing) - Total_b_50[0].Dividing.sum()/len(Total_b_50[0].Dividing)\n",
    "p0 = (Total_t_50[0].Dividing.sum()+ Total_b_50[0].Dividing.sum())/(len(Total_t_50[0].Dividing)+len(Total_b_50[0].Dividing))\n",
    "pvalue0 = stat.norm.cdf(q0/np.sqrt(p0*(1-p0)*(1/len(Total_t_50[0].Dividing)+1/len(Total_b_50[0].Dividing))))*2\n",
    "q3 = Total_t_50[1].Dividing.sum()/len(Total_t_50[1].Dividing) - Total_b_50[1].Dividing.sum()/len(Total_b_50[1].Dividing)\n",
    "p3 = (Total_t_50[1].Dividing.sum()+ Total_b_50[1].Dividing.sum())/(len(Total_t_50[1].Dividing)+len(Total_b_50[1].Dividing))\n",
    "pvalue3 = stat.norm.cdf(q3/np.sqrt(p3*(1-p3)*(1/len(Total_t_50[1].Dividing)+1/len(Total_b_50[1].Dividing))))*2\n",
    "q6 = Total_t_50[2].Dividing.sum()/len(Total_t_50[2].Dividing) - Total_b_50[2].Dividing.sum()/len(Total_b_50[2].Dividing)\n",
    "p6 = (Total_t_50[2].Dividing.sum()+ Total_b_50[2].Dividing.sum())/(len(Total_t_50[2].Dividing)+len(Total_b_50[2].Dividing))\n",
    "pvalue6 = stat.norm.cdf(-q6/np.sqrt(p6*(1-p6)*(1/len(Total_t_50[2].Dividing)+1/len(Total_b_50[2].Dividing))))*2\n",
    "\n",
    "pvalue_list = [pvalue0,pvalue3,pvalue6]\n",
    "time_list = [0,3,6]\n",
    "for i in np.arange(0,3,1):\n",
    "    print('At Tc = {}, p-value is {:3f}'.format(time_list[i],pvalue_list[i]))"
   ]
  },
  {
   "cell_type": "markdown",
   "metadata": {},
   "source": [
    "### set variables for plotting."
   ]
  },
  {
   "cell_type": "code",
   "execution_count": 9,
   "metadata": {},
   "outputs": [],
   "source": [
    "x1 = [0.2,1.2,2.2,3.2,4.2]\n",
    "x2 = [-0.2, 0.8,1.8,2.8,3.8]\n",
    "\n",
    "center_list = [0.5,0.65,0.45]\n",
    "height_list = [0.475,0.625,0.425]\n",
    "width_list = [0.02,0.02,0.02]"
   ]
  },
  {
   "cell_type": "markdown",
   "metadata": {},
   "source": [
    "### plot and save figure.\n",
    "\n",
    "\"n.s.\" represents p-value is higher than significant level, 0.01.  \n",
    "Astarisk represents p-value is lower than significant level, 0.01.   "
   ]
  },
  {
   "cell_type": "code",
   "execution_count": 10,
   "metadata": {},
   "outputs": [
    {
     "data": {
      "text/plain": [
       "<Figure size 648x1152 with 0 Axes>"
      ]
     },
     "metadata": {},
     "output_type": "display_data"
    },
    {
     "data": {
      "image/png": "[encoded data removed]",
      "text/plain": [
       "<Figure size 502.656x360 with 1 Axes>"
      ]
     },
     "metadata": {
      "needs_background": "light"
     },
     "output_type": "display_data"
    }
   ],
   "source": [
    "### plot barplots and their errorbars.\n",
    "plt.figure(figsize = (9,16))\n",
    "sns.catplot(x='Time',y='Probability',hue='mCherry-CAT',hue_order=['top 50\\%', 'bottom 50\\%'],data=Total_data,palette=\"muted\",order=['0','3','6','10','Pre-\\ndeleted'], kind='bar')\n",
    "plt.errorbar(x1,Total_data[Total_data['mCherry-CAT']=='bottom 50\\%']['Probability'],yerr=Total_data[Total_data['mCherry-CAT']=='bottom 50\\%']['yerrorbars'],color = 'orange',ls='')\n",
    "plt.errorbar(x2,Total_data[Total_data['mCherry-CAT']=='top 50\\%']['Probability'],yerr=Total_data[Total_data['mCherry-CAT']=='top 50\\%']['yerrorbars'],color = 'blue',ls='')\n",
    "\n",
    "### plot significance pair.\n",
    "for k, pvalue in enumerate(pvalue_list):\n",
    "    if pvalue > 0.01:\n",
    "        plt.text(k,center_list[k],'n.s.',fontsize = 18, horizontalalignment='center', verticalalignment='center')\n",
    "    elif pvalue > 0.001:\n",
    "        plt.text(k,center_list[k],r'$\\ast$',fontsize = 18, horizontalalignment='center', verticalalignment='center')\n",
    "    plt.plot((k-1/5,k+1/5),(height_list[k],height_list[k]), color = 'black')\n",
    "    plt.plot((k-1/5,k-1/5),(height_list[k],height_list[k]-width_list[k]), color = 'black')\n",
    "    plt.plot((k+1/5,k+1/5),(height_list[k],height_list[k]-width_list[k]), color = 'black')\n",
    "\n",
    "### plot x-yticks and save figure (if deleting indentation.)\n",
    "plt.xlim(-0.5,4.5)\n",
    "plt.xlabel('Duration from BL illumination\\nto the onset of Cp exposure, Tc (h)', fontsize = 18)\n",
    "plt.ylabel('Proportion of\\ngrowth-restored cell lineage', fontsize = 18)\n",
    "plt.show()\n",
    "#plt.savefig('./Figure3F.pdf', transparent = True, bbox_inches ='tight')"
   ]
  },
  {
   "cell_type": "code",
   "execution_count": null,
   "metadata": {},
   "outputs": [],
   "source": []
  }
 ],
 "metadata": {
  "kernelspec": {
   "display_name": "Python 3",
   "language": "python",
   "name": "python3"
  },
  "language_info": {
   "codemirror_mode": {
    "name": "ipython",
    "version": 3
   },
   "file_extension": ".py",
   "mimetype": "text/x-python",
   "name": "python",
   "nbconvert_exporter": "python",
   "pygments_lexer": "ipython3",
   "version": "3.7.4"
  }
 },
 "nbformat": 4,
 "nbformat_minor": 4
}
