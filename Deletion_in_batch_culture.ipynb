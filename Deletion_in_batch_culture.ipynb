{
 "cells": [
  {
   "cell_type": "markdown",
   "metadata": {},
   "source": [
    "# Program for fraction of non-fluorescent colonies \n",
    "\n",
    "This program relate to FigureS2B.\n",
    "\n",
    "### import packages"
   ]
  },
  {
   "cell_type": "code",
   "execution_count": 1,
   "metadata": {},
   "outputs": [],
   "source": [
    "import numpy as np\n",
    "import pandas as pd\n",
    "import matplotlib.pyplot as plt\n",
    "import os\n",
    "import glob"
   ]
  },
  {
   "cell_type": "markdown",
   "metadata": {},
   "source": [
    "### Matplotlib setting"
   ]
  },
  {
   "cell_type": "code",
   "execution_count": 2,
   "metadata": {},
   "outputs": [],
   "source": [
    "plt.rcParams['text.usetex'] = True \n",
    "plt.rcParams['text.latex.preamble'] = [r'\\usepackage{sansmath}', r'\\sansmath'] \n",
    "plt.rcParams['font.family'] = 'sans-serif'\n",
    "plt.rcParams['font.sans-serif'] = 'Helvetica'\n",
    "\n",
    "plt.rcParams[\"font.size\"] = 14"
   ]
  },
  {
   "cell_type": "markdown",
   "metadata": {},
   "source": [
    "### import experimental data and calculate the fraction and its errorbars"
   ]
  },
  {
   "cell_type": "code",
   "execution_count": 3,
   "metadata": {},
   "outputs": [],
   "source": [
    "path = './deletion_in_batch_culture_data'\n",
    "path_list = glob.glob(os.path.join(path, '**.csv'), recursive = True)\n",
    "\n",
    "Result_all = pd.concat([pd.read_csv(i) for i in path_list]).reset_index(drop = True)\n",
    "Result_all = Result_all.groupby('BL_time', as_index = False).sum()\n",
    "Result_all.sort_values('Time',inplace = True)\n",
    "Result_all['Time'] = Result_all['Time']/len(path_list) ### To adjust the time because 'Time' data increase the groubby.sum() \n",
    "Result_all['prob'] = Result_all['FL-']/Result_all['Total']\n",
    "Result_all['err'] = 2*np.sqrt((Result_all['prob']*(1-Result_all['prob']))/Result_all['Total'])"
   ]
  },
  {
   "cell_type": "markdown",
   "metadata": {},
   "source": [
    "### plot and save figure"
   ]
  },
  {
   "cell_type": "code",
   "execution_count": 4,
   "metadata": {},
   "outputs": [
    {
     "data": {
      "image/png": "[encoded data removed]",
      "text/plain": [
       "<Figure size 432x288 with 1 Axes>"
      ]
     },
     "metadata": {
      "needs_background": "light"
     },
     "output_type": "display_data"
    }
   ],
   "source": [
    "fig, ax = plt.subplots(ncols = 1, nrows = 1)\n",
    "Result_all.plot(x = 'Time', y = 'prob', yerr = 'err', ax = ax, elinewidth = 2, linewidth = 0,marker = 'o', capsize = 3,legend = None, color = 'black')\n",
    "ax.set_ylim(0,1.1)\n",
    "ax.set_xlabel('Blue light illumination duration (h)', fontsize = 16)\n",
    "ax.set_ylabel('Fraction of \\nnon-fluorescent colonies', fontsize= 16)\n",
    "ax.set_xticks([-1,0,1,2,3,4,5,6,7,])\n",
    "ax.set_xticklabels(['no\\nIPTG',0,'',2,'',4,'',6,'',], fontsize = 14)\n",
    "ax.set_yticks([0,0.5,1.0])\n",
    "ax.set_yticklabels(['0.0','0.5','1.0'], fontsize = 14)\n",
    "plt.show()\n",
    "#save_path = './FigureS2B.pdf'\n",
    "#plt.savefig(figure_path + '/BL_deletion_fraction.pdf', bbox_inches = 'tight', transparent = True)"
   ]
  },
  {
   "cell_type": "code",
   "execution_count": null,
   "metadata": {},
   "outputs": [],
   "source": []
  }
 ],
 "metadata": {
  "kernelspec": {
   "display_name": "Python 3",
   "language": "python",
   "name": "python3"
  },
  "language_info": {
   "codemirror_mode": {
    "name": "ipython",
    "version": 3
   },
   "file_extension": ".py",
   "mimetype": "text/x-python",
   "name": "python",
   "nbconvert_exporter": "python",
   "pygments_lexer": "ipython3",
   "version": "3.7.4"
  }
 },
 "nbformat": 4,
 "nbformat_minor": 4
}
